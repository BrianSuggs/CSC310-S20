{
  "nbformat": 4,
  "nbformat_minor": 0,
  "metadata": {
    "kernelspec": {
      "display_name": "Python 3",
      "language": "python",
      "name": "python3"
    },
    "language_info": {
      "codemirror_mode": {
        "name": "ipython",
        "version": 3
      },
      "file_extension": ".py",
      "mimetype": "text/x-python",
      "name": "python",
      "nbconvert_exporter": "python",
      "pygments_lexer": "ipython3",
      "version": "3.7.6"
    },
    "colab": {
      "name": "15-ANN-2.ipynb",
      "provenance": [],
      "include_colab_link": true
    }
  },
  "cells": [
    {
      "cell_type": "markdown",
      "metadata": {
        "id": "view-in-github",
        "colab_type": "text"
      },
      "source": [
        "<a href=\"https://colab.research.google.com/github/IndraniMandal/CSC310-S20/blob/master/15_ANN_2.ipynb\" target=\"_parent\"><img src=\"https://colab.research.google.com/assets/colab-badge.svg\" alt=\"Open In Colab\"/></a>"
      ]
    },
    {
      "cell_type": "code",
      "metadata": {
        "id": "KZu2qPHvsXeY",
        "colab_type": "code",
        "colab": {}
      },
      "source": [
        "# preamble to be able to run notebooks in Jupyter and Colab\n",
        "try:\n",
        "    from google.colab import drive\n",
        "    import sys\n",
        "    \n",
        "    drive.mount('/content/drive')\n",
        "    notes_home = \"/content/drive/Shared drives/CSC310/notes/\"\n",
        "    user_home = \"/content/drive/My Drive/\"\n",
        "    \n",
        "    sys.path.insert(1,notes_home) # let the notebook access the notes folder\n",
        "\n",
        "except ModuleNotFoundError:\n",
        "    notes_home = \"\" # running native Jupyter environment -- notes home is the same as the notebook\n",
        "    user_home = \"\"  # under Jupyter we assume the user directory is the same as the notebook"
      ],
      "execution_count": null,
      "outputs": []
    },
    {
      "cell_type": "markdown",
      "metadata": {
        "id": "kybDze2csXee",
        "colab_type": "text"
      },
      "source": [
        "# ANN (MLP) Code Examples\n",
        "\n",
        "Demonstrating the 'rule of thumb' for single hidden layer MLP design,\n",
        "\n",
        "Num of hidden nodes=2 × Num of independent vars"
      ]
    },
    {
      "cell_type": "code",
      "metadata": {
        "id": "MGWwUqh3sXef",
        "colab_type": "code",
        "colab": {},
        "outputId": "dd0e392a-e371-4333-fc4b-1433c3f402f7"
      },
      "source": [
        "# set up\n",
        "import pandas as pd\n",
        "import numpy as np\n",
        "np.set_printoptions(formatter={'float_kind':\"{:3.2f}\".format})\n",
        "from sklearn.neural_network import MLPClassifier\n",
        "from sklearn.model_selection import cross_val_score\n",
        "from sklearn.metrics import accuracy_score\n",
        "from sklearn.metrics import confusion_matrix\n",
        "\n",
        "# get data\n",
        "df = pd.read_csv(notes_home+\"assets/wdbc.csv\")\n",
        "df = df.drop(['ID'],axis=1)\n",
        "X  = df.drop(['Diagnosis'],axis=1)\n",
        "y = df['Diagnosis']\n",
        "\n",
        "\n",
        "# neural network\n",
        "model = MLPClassifier(hidden_layer_sizes=(60,30), max_iter=10000)\n",
        "\n",
        "# do the 5-fold cross validation\n",
        "scores = cross_val_score(model, X, y, cv=5)\n",
        "print(\"Fold Accuracies: {}\".format(scores))\n",
        "print(\"Accuracy: {:3.2f}\".format(scores.mean()))"
      ],
      "execution_count": null,
      "outputs": [
        {
          "output_type": "stream",
          "text": [
            "Fold Accuracies: [0.87 0.91 0.91 0.96 0.88]\n",
            "Accuracy: 0.91\n"
          ],
          "name": "stdout"
        }
      ]
    },
    {
      "cell_type": "markdown",
      "metadata": {
        "id": "T1XNPeVVsXek",
        "colab_type": "text"
      },
      "source": [
        "## MLP Grid Search\n",
        "\n",
        "We can also perform a grid search to find the optimal network.\n",
        "\n",
        "BEWARE: a grid search over all possible parameters of an MLP is almost impossible - combinatoric explosion, too many different combinations possible.\n",
        "\n",
        "Here we only perform a grid over the number of nodes in a single hidden layer.\n",
        "\n"
      ]
    },
    {
      "cell_type": "code",
      "metadata": {
        "id": "NQFitvS-sXel",
        "colab_type": "code",
        "colab": {},
        "outputId": "e8bd223c-dea3-411f-b7cc-423082fabb34"
      },
      "source": [
        "# set up\n",
        "import pandas as pd\n",
        "import numpy as np\n",
        "np.set_printoptions(formatter={'float_kind':\"{:3.2f}\".format})\n",
        "from sklearn.neural_network import MLPClassifier\n",
        "from sklearn.model_selection import cross_val_score\n",
        "from sklearn.metrics import accuracy_score\n",
        "from sklearn.metrics import confusion_matrix\n",
        "from sklearn.model_selection import GridSearchCV\n",
        "from assets.confint import classification_confint\n",
        "\n",
        "# get data\n",
        "df = pd.read_csv(notes_home+\"assets/wdbc.csv\")\n",
        "df = df.drop(['ID'],axis=1)\n",
        "X  = df.drop(['Diagnosis'],axis=1)\n",
        "actual_y = df['Diagnosis']\n",
        "\n",
        "# neural network\n",
        "model = MLPClassifier(max_iter=10000)\n",
        "\n",
        "# grid search\n",
        "param_grid = {'hidden_layer_sizes': [ (5,30), (10,30), (20,30), (30,30), \n",
        "                                     (40,30), (50,30), (60,30), (70,30), \n",
        "                                     (80,30), (90,30), (100,30)]}\n",
        "grid = GridSearchCV(model, param_grid, cv=5)\n",
        "grid.fit(X, actual_y)\n",
        "print(\"Grid Search: best parameters: {}\".format(grid.best_params_))\n",
        "\n",
        "# evaluate the best model\n",
        "best_model = grid.best_estimator_\n",
        "predict_y = best_model.predict(X)\n",
        "acc = accuracy_score(actual_y, predict_y)\n",
        "lb,ub = classification_confint(acc,X.shape[0])\n",
        "print(\"Accuracy: {:3.2f} ({:3.2f},{:3.2f})\".format(acc,lb,ub))\n",
        "\n",
        "# build the confusion matrix\n",
        "labels = ['M', 'B']\n",
        "cm = confusion_matrix(actual_y, predict_y, labels=labels)\n",
        "cm_df = pd.DataFrame(cm, index=labels, columns=labels)\n",
        "print(\"Confusion Matrix:\\n{}\".format(cm_df))"
      ],
      "execution_count": null,
      "outputs": [
        {
          "output_type": "stream",
          "text": [
            "Grid Search: best parameters: {'hidden_layer_sizes': (20, 30)}\n",
            "Accuracy: 0.93 (0.91,0.95)\n",
            "Confusion Matrix:\n",
            "     M    B\n",
            "M  188   24\n",
            "B   17  340\n"
          ],
          "name": "stdout"
        }
      ]
    },
    {
      "cell_type": "markdown",
      "metadata": {
        "id": "TRJQnqGVtvZK",
        "colab_type": "text"
      },
      "source": [
        "Notice that even though our first instinct is that the optimized MLP is much better than the straight forward MLP using our rule of thumb the difference in accuracy between these two models is statistically not significant because their confidence intervals overlap!"
      ]
    },
    {
      "cell_type": "markdown",
      "metadata": {
        "id": "-16dpzpssXer",
        "colab_type": "text"
      },
      "source": [
        "# Team Exercise\n",
        "\n",
        "Use the Crohn’s Disease dataset: [CrohnD](https://vincentarelbundock.github.io/Rdatasets/datasets.html)\n",
        "\n",
        "You will need to preprocess this before you can use it.  You will need to drop the 'ID' column and you will\n",
        "need to rename the following values:\n",
        "\n",
        "c1 -> 0, c2 -> 1, F -> 0, M -> 1\n",
        "\n",
        "Build a ANN/MLP with the best cross-validated performance you can find.  Do a cross-validated grid search over the following:\n",
        "\n",
        "* One layer MLP with i in [10,20] with parameter (i,)\n",
        "* Two layer MLP with i in [10,20] with parameter (i,10)\n",
        "* Different activation functions {'relu', 'logistic'} (see [documentation](https://scikit-learn.org/stable/modules/generated/sklearn.neural_network.MLPClassifier.html#sklearn.neural_network.MLPClassifier).\n",
        "\n",
        "Compare your best MLP to either a best tree or a best KNN (or both).\n",
        "\n",
        "Report if the difference between the models is statistically significant (hint: confidence intervals)\n"
      ]
    },
    {
      "cell_type": "markdown",
      "metadata": {
        "id": "3Q_amJcysXes",
        "colab_type": "text"
      },
      "source": [
        "# Teams\n",
        "\n",
        "```\n",
        "\n",
        "```"
      ]
    }
  ]
}