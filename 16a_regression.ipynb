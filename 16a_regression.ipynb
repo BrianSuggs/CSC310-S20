{
  "nbformat": 4,
  "nbformat_minor": 0,
  "metadata": {
    "kernelspec": {
      "display_name": "Python 3",
      "language": "python",
      "name": "python3"
    },
    "language_info": {
      "codemirror_mode": {
        "name": "ipython",
        "version": 3
      },
      "file_extension": ".py",
      "mimetype": "text/x-python",
      "name": "python",
      "nbconvert_exporter": "python",
      "pygments_lexer": "ipython3",
      "version": "3.7.6"
    },
    "colab": {
      "name": "16a-regression.ipynb",
      "provenance": [],
      "toc_visible": true,
      "include_colab_link": true
    }
  },
  "cells": [
    {
      "cell_type": "markdown",
      "metadata": {
        "id": "view-in-github",
        "colab_type": "text"
      },
      "source": [
        "<a href=\"https://colab.research.google.com/github/IndraniMandal/CSC310-S20/blob/master/16a_regression.ipynb\" target=\"_parent\"><img src=\"https://colab.research.google.com/assets/colab-badge.svg\" alt=\"Open In Colab\"/></a>"
      ]
    },
    {
      "cell_type": "code",
      "metadata": {
        "id": "3SJioDecyNZK",
        "colab_type": "code",
        "colab": {
          "base_uri": "https://localhost:8080/",
          "height": 54
        },
        "outputId": "4e3b795f-2226-46d8-af91-60881d641938"
      },
      "source": [
        "# preamble to be able to run notebooks in Jupyter and Colab\n",
        "try:\n",
        "    from google.colab import drive\n",
        "    import sys\n",
        "    \n",
        "    drive.mount('/content/drive')\n",
        "    notes_home = \"/content/drive/Shared drives/CSC310/notes/\"\n",
        "    user_home = \"/content/drive/My Drive/\"\n",
        "    \n",
        "    sys.path.insert(1,notes_home) # let the notebook access the notes folder\n",
        "\n",
        "except ModuleNotFoundError:\n",
        "    notes_home = \"\" # running native Jupyter environment -- notes home is the same as the notebook\n",
        "    user_home = \"\"  # under Jupyter we assume the user directory is the same as the notebook"
      ],
      "execution_count": 9,
      "outputs": [
        {
          "output_type": "stream",
          "text": [
            "Drive already mounted at /content/drive; to attempt to forcibly remount, call drive.mount(\"/content/drive\", force_remount=True).\n"
          ],
          "name": "stdout"
        }
      ]
    },
    {
      "cell_type": "markdown",
      "metadata": {
        "id": "FEYZ_00AyNZV",
        "colab_type": "text"
      },
      "source": [
        "# Regression Trees\n",
        "\n",
        "In regression we predict **values** rather than discrete labels.\n",
        "\n",
        "In the simplest case we want to fit a line through the points (simple linear regression). A straight-line is a model of the form\n",
        "\n",
        "$y=mx+b$\n",
        "\n",
        "where m is commonly known as the slope, and b is commonly known as the intercept."
      ]
    },
    {
      "cell_type": "markdown",
      "metadata": {
        "id": "jMYsY5bEyNZW",
        "colab_type": "text"
      },
      "source": [
        "## Linear Regression"
      ]
    },
    {
      "cell_type": "code",
      "metadata": {
        "id": "Ob_Alb5YyNZX",
        "colab_type": "code",
        "colab": {
          "base_uri": "https://localhost:8080/",
          "height": 316
        },
        "outputId": "637c15eb-3be2-42a7-d66f-f71be219cce1"
      },
      "source": [
        "import matplotlib.pyplot as plt\n",
        "import random\n",
        "import pandas\n",
        "\n",
        "# generate the data - a noisy line of points\n",
        "m = 2\n",
        "b = -1\n",
        "x = pandas.DataFrame([10 * random.random() for __ in range(50)])\n",
        "y = m * x + b + pandas.DataFrame([random.random() for __ in range(50)])\n",
        "\n",
        "# linear regression model                                                                                                         \n",
        "from sklearn.linear_model import LinearRegression\n",
        "model = LinearRegression(fit_intercept=True)\n",
        "model.fit(x, y)\n",
        "print(\"Slope: {:3.2f}\".format(model.coef_[0][0]))\n",
        "print(\"Intercept: {:3.2f}\".format(model.intercept_[0]))\n",
        "\n",
        "# plot the model together with the data                                                                              \n",
        "xfit = pandas.DataFrame([i for i in range(-1, 12)])\n",
        "yfit = model.predict(xfit)\n",
        "plt.scatter(x, y)\n",
        "plt.plot(xfit, yfit)\n",
        "plt.show()\n",
        "\n",
        "# compute the R^2 score\n",
        "rs = model.score(x,y)\n",
        "print(\"R^2 score: {:3.2f}\".format(rs))"
      ],
      "execution_count": 1,
      "outputs": [
        {
          "output_type": "stream",
          "text": [
            "Slope: 2.00\n",
            "Intercept: -0.56\n"
          ],
          "name": "stdout"
        },
        {
          "output_type": "display_data",
          "data": {
            "image/png": "[encoded data removed]",
            "text/plain": [
              "<Figure size 432x288 with 1 Axes>"
            ]
          },
          "metadata": {
            "tags": [],
            "needs_background": "light"
          }
        },
        {
          "output_type": "stream",
          "text": [
            "R^2 score: 1.00\n"
          ],
          "name": "stdout"
        }
      ]
    },
    {
      "cell_type": "markdown",
      "metadata": {
        "id": "X6_G73PfyNZf",
        "colab_type": "text"
      },
      "source": [
        "## Non-linear Regression"
      ]
    },
    {
      "cell_type": "code",
      "metadata": {
        "scrolled": true,
        "id": "H-zGhCVoyNZg",
        "colab_type": "code",
        "colab": {
          "base_uri": "https://localhost:8080/",
          "height": 329
        },
        "outputId": "7575e3da-9684-41d7-b398-3e0cfb14b60b"
      },
      "source": [
        "# Import the necessary modules and libraries\n",
        "import numpy as np\n",
        "import matplotlib.pyplot as plt\n",
        "from sklearn.tree import DecisionTreeRegressor\n",
        "from sklearn.model_selection import GridSearchCV\n",
        "\n",
        "\n",
        "# Create a random dataset\n",
        "rng = np.random.RandomState(1)\n",
        "X = np.sort(5 * rng.rand(80, 1), axis=0)\n",
        "y = np.sin(X).ravel()\n",
        "y[::5] += 3 * (0.5 - rng.rand(16)) # noise every 5th point\n",
        "\n",
        "# setting up grid search\n",
        "model = model = DecisionTreeRegressor()\n",
        "param_grid = {'max_depth': list(range(1,25))}\n",
        "grid = GridSearchCV(model, param_grid, cv=5)\n",
        "\n",
        "# performing grid search\n",
        "grid.fit(X,y)\n",
        "\n",
        "# print out what we found\n",
        "print(\"Best parameters: {}\".format(grid.best_params_))\n",
        "\n",
        "# Predict\n",
        "rs_score = grid.best_estimator_.score(X,y)\n",
        "print(\"R^2 score: {:3.2f}\".format(rs_score))\n",
        "\n",
        "# Plot the results\n",
        "X_test = np.arange(0.0, 5.0, 0.01)[:, np.newaxis]\n",
        "y_test_model = grid.best_estimator_.predict(X_test)\n",
        "plt.figure()\n",
        "plt.scatter(X, y)\n",
        "plt.plot(X_test, y_test_model, \"r-\")\n",
        "plt.xlabel(\"data\")\n",
        "plt.ylabel(\"target\")\n",
        "plt.title(\"Decision Tree Regression using Gridsearch\")\n",
        "plt.show()"
      ],
      "execution_count": 2,
      "outputs": [
        {
          "output_type": "stream",
          "text": [
            "Best parameters: {'max_depth': 7}\n",
            "R^2 score: 0.99\n"
          ],
          "name": "stdout"
        },
        {
          "output_type": "display_data",
          "data": {
            "image/png": "[encoded data removed]",
            "text/plain": [
              "<Figure size 432x288 with 1 Axes>"
            ]
          },
          "metadata": {
            "tags": [],
            "needs_background": "light"
          }
        }
      ]
    },
    {
      "cell_type": "markdown",
      "metadata": {
        "id": "LVSzP8HC__Nu",
        "colab_type": "text"
      },
      "source": [
        "## Another Look at the $R^2$ Score\n",
        "The $R^2$ score is a score that compares the errors squared of the regression model to the errors squared of a default model."
      ]
    },
    {
      "cell_type": "markdown",
      "metadata": {
        "id": "B_vCGIfmAAug",
        "colab_type": "text"
      },
      "source": [
        "![640px-Coefficient_of_Determination.svg.png](data:image/png;base64,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)"
      ]
    },
    {
      "cell_type": "markdown",
      "metadata": {
        "id": "IG46rthE3eaO",
        "colab_type": "text"
      },
      "source": [
        "More information at [Wikipedia](\"https://en.wikipedia.org/wiki/Coefficient_of_determination\").\n",
        "\n",
        "## Regression in General\n",
        "Turns out that all the classification models we have covered so far also support regression models:\n",
        "\n",
        "* Regression Trees\n",
        "* KNN Regression Models\n",
        "* MLP Regression Models\n",
        "\n",
        "## Regression Trees"
      ]
    },
    {
      "cell_type": "markdown",
      "metadata": {
        "id": "nfyeuhj0yNZl",
        "colab_type": "text"
      },
      "source": [
        "# K-NN Regression"
      ]
    },
    {
      "cell_type": "markdown",
      "metadata": {
        "id": "ZvHKn4QQyNZn",
        "colab_type": "text"
      },
      "source": [
        "## Linear Regression"
      ]
    },
    {
      "cell_type": "code",
      "metadata": {
        "id": "eGHEjovryNZo",
        "colab_type": "code",
        "colab": {},
        "outputId": "49b0277f-c371-470a-bd65-219840ee78f8"
      },
      "source": [
        "# generate the data\n",
        "import matplotlib.pyplot as plt\n",
        "import random\n",
        "import pandas\n",
        "n  = int(input('Choose a number for k: '))\n",
        "\n",
        "x = pandas.DataFrame([10 * random.random() for __ in range(50)])\n",
        "y = 2 * x - 1 + pandas.DataFrame([random.random() for __ in range(50)])\n",
        "\n",
        "# pick model\n",
        "from sklearn.neighbors import KNeighborsRegressor\n",
        "model = KNeighborsRegressor(n_neighbors=n)\n",
        "model.fit(x, y)\n",
        "\n",
        "# compute the R^2 score\n",
        "print(\"R^2 score: {0:.2f}\".format(model.score(x,y)))\n",
        "\n",
        "# plot the model together with the data\n",
        "xfit = pandas.DataFrame([i for i in range(-1, 12)])\n",
        "yfit = model.predict(xfit)\n",
        "plt.scatter(x, y)\n",
        "plt.plot(xfit, yfit, \"r-\")\n",
        "plt.show()"
      ],
      "execution_count": null,
      "outputs": [
        {
          "output_type": "stream",
          "text": [
            "Choose a number for k: 3\n",
            "R^2 score: 1.00\n"
          ],
          "name": "stdout"
        },
        {
          "output_type": "display_data",
          "data": {
            "image/png": "[encoded data removed]",
            "text/plain": [
              "<Figure size 432x288 with 1 Axes>"
            ]
          },
          "metadata": {
            "tags": [],
            "needs_background": "light"
          }
        }
      ]
    },
    {
      "cell_type": "markdown",
      "metadata": {
        "id": "wKeE_hYCyNZv",
        "colab_type": "text"
      },
      "source": [
        "## Non-linear Regression"
      ]
    },
    {
      "cell_type": "code",
      "metadata": {
        "id": "-kbEUi5iyNZw",
        "colab_type": "code",
        "colab": {
          "base_uri": "https://localhost:8080/",
          "height": 296
        },
        "outputId": "0b121ea5-c55e-4221-db12-46df8ce376b0"
      },
      "source": [
        "%matplotlib inline\n",
        "import matplotlib.pyplot as plt\n",
        "import numpy as np\n",
        "import pandas\n",
        "\n",
        "# get our dataset\n",
        "cars_df = pandas.read_csv(notes_home+\"assets/cars.csv\")\n",
        "\n",
        "# pick model\n",
        "from sklearn.neighbors import KNeighborsRegressor\n",
        "model = KNeighborsRegressor(n_neighbors=3)\n",
        "model.fit(cars_df['speed'].values.reshape(-1,1),cars_df['dist'])\n",
        "\n",
        "# plot the model ontop of the data\n",
        "plt.scatter(cars_df['speed'],cars_df['dist'])\n",
        "plt.xlabel('speed')\n",
        "plt.ylabel('dist')\n",
        "\n",
        "x_ticks = np.arange(0,25.0,0.1)\n",
        "y_ticks = model.predict(x_ticks.reshape(-1, 1))\n",
        "plt.plot(x_ticks,y_ticks,\"r-\")\n",
        "\n",
        "# compute the R^2 score \n",
        "rs = model.score(cars_df['speed'].values.reshape(-1,1),cars_df['dist'])\n",
        "print(\"R^2 score: {:3.2f}\".format(rs))"
      ],
      "execution_count": 10,
      "outputs": [
        {
          "output_type": "stream",
          "text": [
            "R^2 score: 0.75\n"
          ],
          "name": "stdout"
        },
        {
          "output_type": "display_data",
          "data": {
            "image/png": "[encoded data removed]",
            "text/plain": [
              "<Figure size 432x288 with 1 Axes>"
            ]
          },
          "metadata": {
            "tags": [],
            "needs_background": "light"
          }
        }
      ]
    },
    {
      "cell_type": "markdown",
      "metadata": {
        "id": "agoyqujZ8PmU",
        "colab_type": "text"
      },
      "source": [
        "## MLP Regression"
      ]
    },
    {
      "cell_type": "markdown",
      "metadata": {
        "id": "D090Sck5yNaA",
        "colab_type": "text"
      },
      "source": [
        "## Linear Regression"
      ]
    },
    {
      "cell_type": "code",
      "metadata": {
        "id": "BfRBe4FSyNaB",
        "colab_type": "code",
        "colab": {
          "base_uri": "https://localhost:8080/",
          "height": 353
        },
        "outputId": "6bb9107d-fc6d-490b-fd83-96bb826a3e48"
      },
      "source": [
        "# generate the data\n",
        "import matplotlib.pyplot as plt\n",
        "import random\n",
        "import pandas\n",
        "\n",
        "n  = int(input('Choose a number for hidden nodes: '))\n",
        "\n",
        "X = pandas.DataFrame([10 * random.random() for __ in range(50)])\n",
        "y = 2 * X - 1 + pandas.DataFrame([random.random() for __ in range(50)])\n",
        "\n",
        "# pick model\n",
        "from sklearn.neural_network import MLPRegressor\n",
        "model = MLPRegressor(hidden_layer_sizes=(n,),\n",
        "                     activation='relu', max_iter=10000)\n",
        "model.fit(X, y)\n",
        "\n",
        "# compute the R^2 score\n",
        "print(\"R^2 score: {0:.2f}\".format(model.score(X,y)))\n",
        "\n",
        "# plot the model together with the data\n",
        "Xfit = pandas.DataFrame([i for i in range(-1, 12)])\n",
        "yfit = model.predict(Xfit)\n",
        "plt.scatter(X, y)\n",
        "plt.plot(Xfit, yfit, \"r-\")\n",
        "plt.show()\n"
      ],
      "execution_count": 13,
      "outputs": [
        {
          "output_type": "stream",
          "text": [
            "Choose a number for hidden nodes: 20\n"
          ],
          "name": "stdout"
        },
        {
          "output_type": "stream",
          "text": [
            "/usr/local/lib/python3.6/dist-packages/sklearn/neural_network/_multilayer_perceptron.py:1342: DataConversionWarning: A column-vector y was passed when a 1d array was expected. Please change the shape of y to (n_samples, ), for example using ravel().\n",
            "  y = column_or_1d(y, warn=True)\n"
          ],
          "name": "stderr"
        },
        {
          "output_type": "stream",
          "text": [
            "R^2 score: 1.00\n"
          ],
          "name": "stdout"
        },
        {
          "output_type": "display_data",
          "data": {
            "image/png": "[encoded data removed]",
            "text/plain": [
              "<Figure size 432x288 with 1 Axes>"
            ]
          },
          "metadata": {
            "tags": [],
            "needs_background": "light"
          }
        }
      ]
    },
    {
      "cell_type": "markdown",
      "metadata": {
        "id": "CGsIcyswyNaG",
        "colab_type": "text"
      },
      "source": [
        "## Non-linear Regression"
      ]
    },
    {
      "cell_type": "code",
      "metadata": {
        "id": "qu5ALWO-8GdX",
        "colab_type": "code",
        "colab": {
          "base_uri": "https://localhost:8080/",
          "height": 296
        },
        "outputId": "38baab25-c0aa-4fc4-8545-b8a954bc526e"
      },
      "source": [
        "%matplotlib inline\n",
        "import matplotlib.pyplot as plt\n",
        "import numpy as np\n",
        "import pandas\n",
        "\n",
        "# get our dataset\n",
        "cars_df = pandas.read_csv(notes_home+\"assets/cars.csv\")\n",
        "\n",
        "# pick model\n",
        "from sklearn.neural_network import MLPRegressor\n",
        "model = MLPRegressor(hidden_layer_sizes=(100,), activation='tanh', max_iter=50000)\n",
        "model.fit(cars_df['speed'].values.reshape(-1,1),cars_df['dist'])\n",
        "\n",
        "# plot the model ontop of the data\n",
        "plt.scatter(cars_df['speed'],cars_df['dist'])\n",
        "plt.xlabel('speed')\n",
        "plt.ylabel('dist')\n",
        "\n",
        "x_ticks = np.arange(0,25.0,0.1)\n",
        "y_ticks = model.predict(x_ticks.reshape(-1, 1))\n",
        "plt.plot(x_ticks,y_ticks,\"r-\")\n",
        "\n",
        "# compute the R^2 score \n",
        "rs = model.score(cars_df['speed'].values.reshape(-1,1),cars_df['dist'])\n",
        "print(\"R^2 score: {:3.2f}\".format(rs))"
      ],
      "execution_count": 11,
      "outputs": [
        {
          "output_type": "stream",
          "text": [
            "R^2 score: 0.79\n"
          ],
          "name": "stdout"
        },
        {
          "output_type": "display_data",
          "data": {
            "image/png": "[encoded data removed]",
            "text/plain": [
              "<Figure size 432x288 with 1 Axes>"
            ]
          },
          "metadata": {
            "tags": [],
            "needs_background": "light"
          }
        }
      ]
    },
    {
      "cell_type": "markdown",
      "metadata": {
        "id": "dN_R4smM8VQa",
        "colab_type": "text"
      },
      "source": [
        "## Regression and Grid Search - KNN Regression\n",
        "Just like in classification, regression models are built using a small sample of a possibly infinite data universe and we have to estimate the model parameters for the best model using this small sample...that means we have to perform a grid search over parameter ranges and we want to use cross-validation to minimize the bias of any one particular training-test split of the data.\n",
        "\n",
        "Let's try this with KNN regression."
      ]
    },
    {
      "cell_type": "code",
      "metadata": {
        "id": "8EQkxs2h8peN",
        "colab_type": "code",
        "colab": {
          "base_uri": "https://localhost:8080/",
          "height": 313
        },
        "outputId": "2bbb2fa1-0a5f-4cb7-c5db-f5bb9dcef5a3"
      },
      "source": [
        "# Import the necessary modules and libraries\n",
        "import numpy as np\n",
        "import matplotlib.pyplot as plt\n",
        "from sklearn.neighbors import KNeighborsRegressor\n",
        "from sklearn.model_selection import GridSearchCV\n",
        "from assets.confint import regression_confint\n",
        "\n",
        "# get our dataset\n",
        "cars_df = pandas.read_csv(notes_home+\"assets/cars.csv\")\n",
        "X = cars_df['speed'].values.reshape(-1,1)\n",
        "y = cars_df['dist']\n",
        "\n",
        "# setting up grid search\n",
        "model = KNeighborsRegressor()\n",
        "param_grid = {'n_neighbors': list(range(1,11))}\n",
        "grid = GridSearchCV(model, param_grid, cv=5)\n",
        "\n",
        "# performing grid search\n",
        "grid.fit(X,y)\n",
        "\n",
        "# print out what we found\n",
        "print(\"Best parameters: {}\".format(grid.best_params_))\n",
        "\n",
        "# plot the best model ontop of the data\n",
        "plt.scatter(cars_df['speed'],cars_df['dist'])\n",
        "plt.xlabel('speed')\n",
        "plt.ylabel('dist')\n",
        "\n",
        "best_model = grid.best_estimator_\n",
        "x_ticks = np.arange(0,25.0,0.1)\n",
        "y_ticks = best_model.predict(x_ticks.reshape(-1, 1))\n",
        "plt.plot(x_ticks,y_ticks,\"r-\")\n",
        "\n",
        "# compute the R^2 score and CI of the best model\n",
        "rs = best_model.score(cars_df['speed'].values.reshape(-1,1),cars_df['dist'])\n",
        "obs = cars_df.shape[0]\n",
        "vars = 1\n",
        "lb, ub = regression_confint(rs, obs, vars)\n",
        "print(\"R^2 score: {:3.2f} ({:3.2f}, {:3.2f})\".format(rs,lb,ub))"
      ],
      "execution_count": 12,
      "outputs": [
        {
          "output_type": "stream",
          "text": [
            "Best parameters: {'n_neighbors': 5}\n",
            "R^2 score: 0.74 (0.62, 0.86)\n"
          ],
          "name": "stdout"
        },
        {
          "output_type": "display_data",
          "data": {
            "image/png": "[encoded data removed]",
            "text/plain": [
              "<Figure size 432x288 with 1 Axes>"
            ]
          },
          "metadata": {
            "tags": [],
            "needs_background": "light"
          }
        }
      ]
    }
  ]
}