{
  "nbformat": 4,
  "nbformat_minor": 0,
  "metadata": {
    "kernelspec": {
      "display_name": "Python 3",
      "language": "python",
      "name": "python3"
    },
    "language_info": {
      "codemirror_mode": {
        "name": "ipython",
        "version": 3
      },
      "file_extension": ".py",
      "mimetype": "text/x-python",
      "name": "python",
      "nbconvert_exporter": "python",
      "pygments_lexer": "ipython3",
      "version": "3.7.6"
    },
    "colab": {
      "name": "19a-NLP-2.ipynb",
      "provenance": [],
      "include_colab_link": true
    }
  },
  "cells": [
    {
      "cell_type": "markdown",
      "metadata": {
        "id": "view-in-github",
        "colab_type": "text"
      },
      "source": [
        "<a href=\"https://colab.research.google.com/github/IndraniMandal/CSC310-S20/blob/master/19a_NLP_2.ipynb\" target=\"_parent\"><img src=\"https://colab.research.google.com/assets/colab-badge.svg\" alt=\"Open In Colab\"/></a>"
      ]
    },
    {
      "cell_type": "code",
      "metadata": {
        "id": "zl6CvIbYGl3T",
        "colab_type": "code",
        "colab": {}
      },
      "source": [
        "# preamble to be able to run notebooks in Jupyter and Colab\n",
        "try:\n",
        "    from google.colab import drive\n",
        "    import sys\n",
        "    \n",
        "    drive.mount('/content/drive')\n",
        "    notes_home = \"/content/drive/My Drive/CSC310/notes/\"\n",
        "    user_home = \"/content/drive/My Drive/\"\n",
        "    \n",
        "    sys.path.insert(1,notes_home) # let the notebook access the notes folder\n",
        "\n",
        "except ModuleNotFoundError:\n",
        "    notes_home = \"\" # running native Jupyter environment -- notes home is the same as the notebook\n",
        "    user_home = \"\"  # under Jupyter we assume the user directory is the same as the notebook"
      ],
      "execution_count": null,
      "outputs": []
    },
    {
      "cell_type": "markdown",
      "metadata": {
        "id": "l_a53P6yGl3Y",
        "colab_type": "text"
      },
      "source": [
        "# NLP & ML\n",
        "\n",
        "We saw that we convert text document into a ‘vector model’ (bag-of-words).\n",
        "\n",
        "The vector model allows us to perform mathematical analysis on documents - “which documents are similar to each other?”\n",
        "\n",
        "> Next question: can we construct machine learning models on document collections using the vector model?\n",
        "\n",
        "**Yes!** We can construct classifiers.\n",
        "\n",
        "Consider again our news article data set.\n",
        "\n",
        "We would like to construct a classifier that can correctly classifier political and science documents.\n",
        "\n",
        "We will begin with our KNN algorithm (k nearest neighbors). Since documents are considered point in an n-dimensional space KNN seems well suited for this problem."
      ]
    },
    {
      "cell_type": "markdown",
      "metadata": {
        "id": "4-l9pYQ6Gl3Z",
        "colab_type": "text"
      },
      "source": [
        "## KNN"
      ]
    },
    {
      "cell_type": "code",
      "metadata": {
        "id": "uXzxnS-YGl3Z",
        "colab_type": "code",
        "colab": {}
      },
      "source": [
        "# setup\n",
        "import pandas as pd\n",
        "from sklearn.neighbors import KNeighborsClassifier\n",
        "from sklearn.model_selection import GridSearchCV\n",
        "from sklearn.metrics import accuracy_score\n",
        "from sklearn.metrics import confusion_matrix\n",
        "from assets.confint import classification_confint\n",
        "from sklearn.feature_extraction.text import CountVectorizer\n",
        "from nltk.stem import PorterStemmer\n",
        "from sklearn.datasets import fetch_20newsgroups"
      ],
      "execution_count": 2,
      "outputs": []
    },
    {
      "cell_type": "code",
      "metadata": {
        "id": "PODpRv8NISlW",
        "colab_type": "code",
        "colab": {
          "base_uri": "https://localhost:8080/",
          "height": 255
        },
        "outputId": "55717c9b-1c75-4373-ac4f-5c34b8a523d5"
      },
      "source": [
        "print(\"******** data **********\")\n",
        "\n",
        "# get the newsgroup database\n",
        "cats = ['talk.politics.misc', 'sci.space']\n",
        "newsgroups_train = fetch_20newsgroups(subset='train', \n",
        "                                      remove=('headers', 'footers', 'quotes'),\n",
        "                                      categories=cats)\n",
        "\n",
        "# extract into dataframes\n",
        "texts = pd.DataFrame(newsgroups_train.data, columns=['text'])\n",
        "labels = pd.DataFrame(newsgroups_train.target, columns=['label'])['label'].apply(lambda x: cats[x])\n",
        "texts.head()"
      ],
      "execution_count": 3,
      "outputs": [
        {
          "output_type": "stream",
          "text": [
            "Downloading 20news dataset. This may take a few minutes.\n",
            "Downloading dataset from https://ndownloader.figshare.com/files/5975967 (14 MB)\n"
          ],
          "name": "stderr"
        },
        {
          "output_type": "stream",
          "text": [
            "******** data **********\n"
          ],
          "name": "stdout"
        },
        {
          "output_type": "execute_result",
          "data": {
            "text/html": [
              "<div>\n",
              "<style scoped>\n",
              "    .dataframe tbody tr th:only-of-type {\n",
              "        vertical-align: middle;\n",
              "    }\n",
              "\n",
              "    .dataframe tbody tr th {\n",
              "        vertical-align: top;\n",
              "    }\n",
              "\n",
              "    .dataframe thead th {\n",
              "        text-align: right;\n",
              "    }\n",
              "</style>\n",
              "<table border=\"1\" class=\"dataframe\">\n",
              "  <thead>\n",
              "    <tr style=\"text-align: right;\">\n",
              "      <th></th>\n",
              "      <th>text</th>\n",
              "    </tr>\n",
              "  </thead>\n",
              "  <tbody>\n",
              "    <tr>\n",
              "      <th>0</th>\n",
              "      <td>\\nIn billions of dollars (%GNP):\\nyear  GNP   ...</td>\n",
              "    </tr>\n",
              "    <tr>\n",
              "      <th>1</th>\n",
              "      <td>ajteel@dendrite.cs.Colorado.EDU (A.J. Teel) w...</td>\n",
              "    </tr>\n",
              "    <tr>\n",
              "      <th>2</th>\n",
              "      <td>\\nMy opinion is this:  In a society whose econ...</td>\n",
              "    </tr>\n",
              "    <tr>\n",
              "      <th>3</th>\n",
              "      <td>Ahhh, remember the days of Yesterday?  When we...</td>\n",
              "    </tr>\n",
              "    <tr>\n",
              "      <th>4</th>\n",
              "      <td>\\n\"...a la Chrysler\"??  Okay kids, to the near...</td>\n",
              "    </tr>\n",
              "  </tbody>\n",
              "</table>\n",
              "</div>"
            ],
            "text/plain": [
              "                                                text\n",
              "0  \\nIn billions of dollars (%GNP):\\nyear  GNP   ...\n",
              "1   ajteel@dendrite.cs.Colorado.EDU (A.J. Teel) w...\n",
              "2  \\nMy opinion is this:  In a society whose econ...\n",
              "3  Ahhh, remember the days of Yesterday?  When we...\n",
              "4  \\n\"...a la Chrysler\"??  Okay kids, to the near..."
            ]
          },
          "metadata": {
            "tags": []
          },
          "execution_count": 3
        }
      ]
    },
    {
      "cell_type": "code",
      "metadata": {
        "id": "O94YkB9EGl3d",
        "colab_type": "code",
        "colab": {
          "base_uri": "https://localhost:8080/",
          "height": 188
        },
        "outputId": "10a675c1-a0e5-4998-b14c-c8ce1db2b8f7"
      },
      "source": [
        "texts.iloc[3,0]"
      ],
      "execution_count": 5,
      "outputs": [
        {
          "output_type": "execute_result",
          "data": {
            "application/vnd.google.colaboratory.intrinsic+json": {
              "type": "string"
            },
            "text/plain": [
              "'Ahhh, remember the days of Yesterday?  When we were only \\n\\tgoing to pay $17 / month?\\n\\n\\tWhen only 1.2% of the population would pay extra taxes?\\n\\n\\tRemember when a few of us predicted that it wasn\\'t true?  :)\\n\\tRemember the Inaugural?   Dancing and Singing!  Liberation\\n\\tat last!  \\n\\n\\tWell, figure *this* out:\\n\\n\\t5% VAT, estimated to raise $60-100 Billion per year ( on CNN )\\n\\tWork it out, chum...\\n\\n\\t     $60,000,000,000  /  125,000,000 taxpayers = $480 / year\\n\\n        But, you exclaim, \" I\\'ll get FREE HEALTH CARE! \"\\n\\tBut, I exclaim, \" No, you won\\'t! \"\\n\\n\\tThis is only for that poor 37 million who have none.  Not for\\n\\tYOU, chum. :)  That comes LATER.\\n\\n\\tAdd in the estimates of the energy tax costs - $300-500 / year\\n\\n\\tPlus, all that extra \"corporate and rich\" taxes that will \\n\\ttrickle down, and what do you have?\\n\\n\\t$1,000 / year, just like I said two months ago.\\n\\n\\tAnd, the best part?   You don\\'t GET ANYTHING for it.\\n\\n\\tDeficit is STILL projected to rise at same rate it\\'s  been\\n\\trising at, by CLINTON\\'S OWN ESTIMATES.  And this assumes that\\n\\this plan WILL WORK!\\n\\n\\tI mean, come on, it doesn\\'t take a ROCKET SCIENTIST to see\\n\\tthat in another 2 or 3 years, we\\'re GETTING ANOTHER WHOPPING\\n\\tTAX INCREASE, because the deficit will STILL be GROWING \\n\\tFASTER THAN the ECONOMY.\\n\\n\\tAll Clinton is doing, is moving us to a HIGHER diving board.\\n\\n        Face it.  Clinton is Bush X 2.  In four more years, our\\n\\tcountry will be completely bankrupt, and your children\\'s\\n\\tfuture, so oft mentioned by Pal Bill, will be gone.\\n\\n\\tAnd those of you still deluding yourselves will be faced\\n\\twith the guilt.\\n\\n\\tWell, <glancing at watch>, gotta go.  I want to be out of\\n\\there by noon.  Got an appointment at the lake.  No tax\\n\\tthere, yet.'"
            ]
          },
          "metadata": {
            "tags": []
          },
          "execution_count": 5
        }
      ]
    },
    {
      "cell_type": "code",
      "metadata": {
        "id": "ceib5UzMGl3h",
        "colab_type": "code",
        "colab": {
          "base_uri": "https://localhost:8080/",
          "height": 119
        },
        "outputId": "446ff774-ee08-43a5-efa2-2738da7733e9"
      },
      "source": [
        "labels.head()"
      ],
      "execution_count": 6,
      "outputs": [
        {
          "output_type": "execute_result",
          "data": {
            "text/plain": [
              "0    sci.space\n",
              "1    sci.space\n",
              "2    sci.space\n",
              "3    sci.space\n",
              "4    sci.space\n",
              "Name: label, dtype: object"
            ]
          },
          "metadata": {
            "tags": []
          },
          "execution_count": 6
        }
      ]
    },
    {
      "cell_type": "code",
      "metadata": {
        "id": "q4-CrQ_AGl3k",
        "colab_type": "code",
        "colab": {
          "base_uri": "https://localhost:8080/",
          "height": 51
        },
        "outputId": "d114aaa9-fcde-4195-d831-b7699f110021"
      },
      "source": [
        "print(\"******** docarray **********\")\n",
        "\n",
        "# build the stemmer object\n",
        "stemmer = PorterStemmer()\n",
        "# get the default text analyzer from CountVectorizer\n",
        "analyzer = vectorizer = CountVectorizer(analyzer = \"word\", token_pattern = \"[a-zA-Z]+\").build_analyzer()\n",
        "\n",
        "# build a new analyzer that stems using the default analyzer to create the words to be stemmed\n",
        "def stemmed_words(doc):\n",
        "    return (stemmer.stem(w) for w in analyzer(doc))\n",
        "\n",
        "# build docarrayu\n",
        "vectorizer = CountVectorizer(analyzer=stemmed_words,\n",
        "                                 binary=True,\n",
        "                                 min_df=2)\n",
        "docarray = vectorizer.fit_transform(texts.loc[:,'text']).toarray()\n",
        "docarray.shape"
      ],
      "execution_count": 7,
      "outputs": [
        {
          "output_type": "stream",
          "text": [
            "******** docarray **********\n"
          ],
          "name": "stdout"
        },
        {
          "output_type": "execute_result",
          "data": {
            "text/plain": [
              "(1058, 6267)"
            ]
          },
          "metadata": {
            "tags": []
          },
          "execution_count": 7
        }
      ]
    },
    {
      "cell_type": "code",
      "metadata": {
        "id": "2YD2RVK_I0G5",
        "colab_type": "code",
        "colab": {
          "base_uri": "https://localhost:8080/",
          "height": 136
        },
        "outputId": "a8fb3721-7687-4395-bc53-871ef06c6d5e"
      },
      "source": [
        "print(\"******** model **********\")\n",
        "\n",
        "\n",
        "# KNN\n",
        "model = KNeighborsClassifier()\n",
        "\n",
        "# grid search\n",
        "param_grid = {'n_neighbors': list(range(1,15,3))}\n",
        "grid = GridSearchCV(model, param_grid, cv=2, verbose=10, n_jobs=-1)\n",
        "grid.fit(docarray, labels)\n",
        "print(\"Grid Search: best parameters: {}\".format(grid.best_params_))"
      ],
      "execution_count": 8,
      "outputs": [
        {
          "output_type": "stream",
          "text": [
            "******** model **********\n",
            "Fitting 2 folds for each of 5 candidates, totalling 10 fits\n"
          ],
          "name": "stdout"
        },
        {
          "output_type": "stream",
          "text": [
            "[Parallel(n_jobs=-1)]: Using backend LokyBackend with 2 concurrent workers.\n",
            "[Parallel(n_jobs=-1)]: Done   1 tasks      | elapsed:    9.0s\n",
            "[Parallel(n_jobs=-1)]: Done   4 tasks      | elapsed:   16.3s\n",
            "[Parallel(n_jobs=-1)]: Done  10 out of  10 | elapsed:   37.1s finished\n"
          ],
          "name": "stderr"
        },
        {
          "output_type": "stream",
          "text": [
            "Grid Search: best parameters: {'n_neighbors': 7}\n"
          ],
          "name": "stdout"
        }
      ]
    },
    {
      "cell_type": "code",
      "metadata": {
        "id": "Zi96bPZ4I2dh",
        "colab_type": "code",
        "colab": {
          "base_uri": "https://localhost:8080/",
          "height": 51
        },
        "outputId": "9dbe5bbc-c135-41c4-8989-4c614b089fd6"
      },
      "source": [
        "print(\"******** Accuracy **********\")\n",
        "\n",
        "# accuracy of best model with confidence interval\n",
        "best_model = grid.best_estimator_\n",
        "predict_y = best_model.predict(docarray)\n",
        "acc = accuracy_score(labels, predict_y)\n",
        "lb,ub = classification_confint(acc,docarray.shape[0])\n",
        "print(\"Accuracy: {:3.2f} ({:3.2f},{:3.2f})\".format(acc,lb,ub))"
      ],
      "execution_count": 9,
      "outputs": [
        {
          "output_type": "stream",
          "text": [
            "******** Accuracy **********\n",
            "Accuracy: 0.86 (0.84,0.88)\n"
          ],
          "name": "stdout"
        }
      ]
    },
    {
      "cell_type": "code",
      "metadata": {
        "id": "HrRwYTPVJEws",
        "colab_type": "code",
        "colab": {
          "base_uri": "https://localhost:8080/",
          "height": 102
        },
        "outputId": "2ff3f90f-263e-4a0d-840a-eb61b3594d46"
      },
      "source": [
        "print(\"******** confusion matrix **********\")\n",
        "\n",
        "# build the confusion matrix\n",
        "cm = confusion_matrix(labels, predict_y, labels=cats)\n",
        "cm_df = pd.DataFrame(cm, index=cats, columns=cats)\n",
        "print(\"Confusion Matrix:\\n{}\".format(cm_df))"
      ],
      "execution_count": 10,
      "outputs": [
        {
          "output_type": "stream",
          "text": [
            "******** confusion matrix **********\n",
            "Confusion Matrix:\n",
            "                    talk.politics.misc  sci.space\n",
            "talk.politics.misc                 514         79\n",
            "sci.space                           73        392\n"
          ],
          "name": "stdout"
        }
      ]
    },
    {
      "cell_type": "markdown",
      "metadata": {
        "id": "aaop5xNzGl3o",
        "colab_type": "text"
      },
      "source": [
        "## Naive Bayes(NB)\n",
        "\n",
        "* “Standard” model for text processing\n",
        "* Fast to train, has no problems with very high dimensional data\n",
        "* NB is a classification technique based on Bayes’ Theorem with an assumption of independence among predictors.\n",
        "* In simple terms, a NB classifier assumes that the presence of a particular feature in a class is unrelated to the presence of any other feature.\n",
        "* For example, a fruit may be considered to be an apple if it is red, round, and about 3 inches in diameter. Even if these features depend on each other or upon the existence of the other features, all of these properties independently contribute to the probability that this fruit is an apple and that is why it is known as ‘Naive’.\n"
      ]
    },
    {
      "cell_type": "markdown",
      "metadata": {
        "id": "n2sDtsZeJsyg",
        "colab_type": "text"
      },
      "source": [
        "### The Mathematics\n",
        "Bayes theorem provides a way of calculating posterior probability $P(c|x)$ from $P(c), P(x)$ and $P(x|c)$. Look at the equation below, where\n",
        "* $P(c|x)$ is the posterior probability of class (c, target) given predictor (x, attributes).\n",
        "* $P(c)$ is the prior probability of class.\n",
        "* $P(x|c)$ is the likelihood which is the probability of predictor given class.\n",
        "* $P(x)$ is the prior probability of predictor.\n"
      ]
    },
    {
      "cell_type": "markdown",
      "metadata": {
        "id": "ZK_k5AmpZ4X1",
        "colab_type": "text"
      },
      "source": [
        "$Posterior Probability = \\frac{Likelihood \\times Class Prior Probability}{Predictor Prior Probability}$\n",
        "\n",
        "$P(c|x)= \\frac{P(x|c)P(c)}{P(x)}$\n",
        "\n",
        "$P(c|x)= P(x_1|c) \\times P(x_2|c) \\times P(x_3|c) \\times .....\\times \\times P(x_n|c) \\times P(c)$"
      ]
    },
    {
      "cell_type": "markdown",
      "metadata": {
        "id": "e2L02ogvKkYR",
        "colab_type": "text"
      },
      "source": [
        "### Example\n",
        "Let's assume we have a predictor $Weather$ and a target $Play$ that contains classes (table below).\n",
        "\n",
        "Weather| Play   \n",
        "--- | --- \n",
        "Sunny |   No    \n",
        "Overcast | Yes  \n",
        "Rainy | Yes\n",
        "Sunny |   Yes\n",
        "Sunny |   Yes\n",
        "Overcast | Yes\n",
        "Rainy | No\n",
        "Rainy | No\n",
        "Sunny |   Yes\n",
        "Rainy | Yes\n",
        "Sunny |   No\n",
        "Overcast | Yes\n",
        "Overcast | Yes\n",
        "Rainy | No\n"
      ]
    },
    {
      "cell_type": "markdown",
      "metadata": {
        "id": "dx9QVrZGg4Mi",
        "colab_type": "text"
      },
      "source": [
        "###Frequency Table \n",
        "Weather| No | Yes  \n",
        "--- | --- | ---   \n",
        "Overcast | 0 | 4  \n",
        "Rainy | 3 | 2\n",
        "Sunny |   2 | 3\n",
        "Grand Total | 5 | 9\n"
      ]
    },
    {
      "cell_type": "markdown",
      "metadata": {
        "id": "k0nitkWihxKO",
        "colab_type": "text"
      },
      "source": [
        "### Likelihood Table \n",
        "Weather| No | Yes | Num/Total | Fraction\n",
        "--- | --- | ---   |---|---\n",
        "Overcast | 0 | 4 | =4/14 | 0.29 \n",
        "Rainy    | 3 | 2 | =5/14 | 0.36\n",
        "Sunny    | 2 | 3 | =5/14 | 0.36\n",
        "Grand Total | 5 | 9\n",
        " | =5/14 | =9/14\n",
        " | 0.36 | 0.64"
      ]
    },
    {
      "cell_type": "markdown",
      "metadata": {
        "id": "llbTtAv4i6l9",
        "colab_type": "text"
      },
      "source": [
        "We want to compute if we play tennis when sunny. That is we compute the two probabilities,\n",
        "\n",
        "1. $P(Yes|Sunny)$\n",
        "2. $P(No|Sunny)$ and then pick the statement with the higher probability.\n",
        "\n",
        "Basically, NB just counts, let's look at P(Yes|Sunny),\n",
        "\n",
        "$P(Yes|Sunny)= \\frac{P(Sunny|Yes)P(Yes)}{P(Sunny)} =\\frac {3/9 \\times 9/14}{5/14}= \\frac{.33 \\times .64}{.36} =.60$\n"
      ]
    },
    {
      "cell_type": "markdown",
      "metadata": {
        "id": "lnyn_PxXkYHV",
        "colab_type": "text"
      },
      "source": [
        "Now, let's look at $P(No|Sunny)$,"
      ]
    },
    {
      "cell_type": "markdown",
      "metadata": {
        "id": "1Tcb6yXJkajv",
        "colab_type": "text"
      },
      "source": [
        "$P(No|Sunny)= \\frac{P(Sunny|No)P(No)}{P(Sunny)} =\\frac {2/5 \\times 5/14}{5/14}= \\frac {.40 \\times .64} {.36}=.40$"
      ]
    },
    {
      "cell_type": "markdown",
      "metadata": {
        "id": "9geAOs6dlEN4",
        "colab_type": "text"
      },
      "source": [
        "We are playing tennis when sunny because the posterior probability $P(Yes|Sunny)$ is higher.\n",
        "\n",
        "Let’s take our text classification problem and use a Naive Bayes classifier on it.\n",
        "\n",
        "The setup and data prep is the same as in the case of the KNN classifier."
      ]
    },
    {
      "cell_type": "code",
      "metadata": {
        "id": "sQ6PYaBDGl3o",
        "colab_type": "code",
        "colab": {
          "base_uri": "https://localhost:8080/",
          "height": 187
        },
        "outputId": "bff0cd9a-634b-4b24-930a-698f0baa872c"
      },
      "source": [
        "## Naive Bayes\n",
        "\n",
        "# setup\n",
        "import pandas as pd\n",
        "from sklearn.naive_bayes import MultinomialNB\n",
        "from sklearn.metrics import accuracy_score\n",
        "from sklearn.metrics import confusion_matrix\n",
        "from assets.confint import classification_confint\n",
        "from sklearn.feature_extraction.text import CountVectorizer\n",
        "from nltk.stem import PorterStemmer\n",
        "from sklearn.datasets import fetch_20newsgroups\n",
        "\n",
        "print(\"******** data **********\")\n",
        "\n",
        "# get the newsgroup database\n",
        "cats = ['talk.politics.misc', 'sci.space']\n",
        "newsgroups_train = fetch_20newsgroups(subset='train', \n",
        "                                      remove=('headers', 'footers', 'quotes'),\n",
        "                                      categories=cats)\n",
        "\n",
        "# extract into dataframes\n",
        "texts = pd.DataFrame(newsgroups_train.data, columns=['text'])\n",
        "labels = pd.DataFrame(newsgroups_train.target, columns=['label'])['label'].apply(lambda x: cats[x])\n",
        "\n",
        "print(\"******** docarray **********\")\n",
        "\n",
        "# build the stemmer object\n",
        "stemmer = PorterStemmer()\n",
        "# get the default text analyzer from CountVectorizer\n",
        "analyzer = vectorizer = CountVectorizer(analyzer = \"word\", token_pattern = \"[a-zA-Z]+\").build_analyzer()\n",
        "\n",
        "# build a new analyzer that stems using the default analyzer to create the words to be stemmed\n",
        "def stemmed_words(doc):\n",
        "    return (stemmer.stem(w) for w in analyzer(doc))\n",
        "\n",
        "# build docarrayu\n",
        "vectorizer = CountVectorizer(analyzer=stemmed_words,\n",
        "                                 binary=True,\n",
        "                                 min_df=2)\n",
        "docarray = vectorizer.fit_transform(texts.loc[:,'text']).toarray()\n",
        "docarray.shape\n",
        "\n",
        "print(\"******** model **********\")\n",
        "\n",
        "\n",
        "# Naive Bayes\n",
        "model = MultinomialNB()\n",
        "# NOTE: NB does not have any hyper-parameters - no overfitting - no searching over parameter space!\n",
        "model.fit(docarray, labels)\n",
        "\n",
        "\n",
        "print(\"******** Accuracy **********\")\n",
        "\n",
        "# accuracy of best model with confidence interval\n",
        "best_model = model\n",
        "predict_y = best_model.predict(docarray)\n",
        "acc = accuracy_score(labels, predict_y)\n",
        "lb,ub = classification_confint(acc,docarray.shape[0])\n",
        "print(\"Accuracy: {:3.2f} ({:3.2f},{:3.2f})\".format(acc,lb,ub))\n",
        "\n",
        "print(\"******** confusion matrix **********\")\n",
        "\n",
        "# build the confusion matrix\n",
        "cm = confusion_matrix(labels, predict_y, labels=cats)\n",
        "cm_df = pd.DataFrame(cm, index=cats, columns=cats)\n",
        "print(\"Confusion Matrix:\\n{}\".format(cm_df))"
      ],
      "execution_count": 11,
      "outputs": [
        {
          "output_type": "stream",
          "text": [
            "******** data **********\n",
            "******** docarray **********\n",
            "******** model **********\n",
            "******** Accuracy **********\n",
            "Accuracy: 0.95 (0.94,0.97)\n",
            "******** confusion matrix **********\n",
            "Confusion Matrix:\n",
            "                    talk.politics.misc  sci.space\n",
            "talk.politics.misc                 562         31\n",
            "sci.space                           19        446\n"
          ],
          "name": "stdout"
        }
      ]
    },
    {
      "cell_type": "markdown",
      "metadata": {
        "id": "H1xcFuYfYqMo",
        "colab_type": "text"
      },
      "source": [
        "Trains very fast and has a higher accuracy than KNN and the difference in accuracy is statistically significant!\n",
        "\n",
        "> NB does not have any hyper-parameters - no overfitting - no searching over parameter space!\n",
        "\n",
        "Hint: Try cross-validating the NB model - you will find that the fold accuracies and the mean accuracy will fall into the CI computed above."
      ]
    },
    {
      "cell_type": "markdown",
      "metadata": {
        "id": "9wbe6ZeRYtKC",
        "colab_type": "text"
      },
      "source": [
        "## Team Exercise\n",
        "For this exercise you will build a classifier that can distinguish real news from fake news. A training set for this is available here: https://raw.githubusercontent.com/lutzhamel/fake-news/master/data/fake_or_real_news.csv\n",
        "\n",
        "The fields you are interested in are ‘text’ and ‘label’ with the obvious interpretations.\n",
        "\n",
        "Here are the action items for this exercise:\n",
        "\n",
        "* Use the vector model and text preprocessing techniques from class to construct a training data set.\n",
        "* Determine the dimensions of your vector model and print out the first 10 dimensions\n",
        "* Use that training data set to construct a Naive Bayes classifier.\n",
        "* Compute the accuracy and 95% CI for the classifier.\n",
        "* Try your analysis with and without data preprocessing, is there a difference in accuracy of the models.\n",
        "\n",
        "The data set contains a large number of articles (takes a long time to train), you can downsample this to something like a 1,000 articles or so in order to speed up training and evaluation (hint: use shuffle).\n",
        "\n",
        "You are free to pick your own team (max two members)\n",
        "\n",
        "**Extra Credit:** Try the same thing but instead of ‘text’ use ‘title’ for your training text. How does a classifier built on this data set compare to the original classifier."
      ]
    },
    {
      "cell_type": "markdown",
      "metadata": {
        "id": "7iZsDqIilQ1m",
        "colab_type": "text"
      },
      "source": [
        "Credit: Prof. Lutz Hamel, University of Rhode Island"
      ]
    }
  ]
}